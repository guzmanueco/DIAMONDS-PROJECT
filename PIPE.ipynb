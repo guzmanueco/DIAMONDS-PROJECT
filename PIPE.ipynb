{
 "cells": [
  {
   "cell_type": "code",
   "execution_count": 1,
   "metadata": {},
   "outputs": [],
   "source": [
    "import pandas as pd\n",
    "import numpy as np\n",
    "from sklearn import preprocessing\n",
    "from sklearn.linear_model import LinearRegression\n",
    "from sklearn.model_selection import train_test_split\n",
    "from sklearn.metrics import mean_squared_error\n",
    "from math import sqrt"
   ]
  },
  {
   "cell_type": "code",
   "execution_count": 2,
   "metadata": {},
   "outputs": [],
   "source": [
    "df = pd.read_csv('./data/data.csv')"
   ]
  },
  {
   "cell_type": "code",
   "execution_count": 3,
   "metadata": {},
   "outputs": [],
   "source": [
    "def dropping_column(df,column):\n",
    "    return df.drop([column], axis=1)"
   ]
  },
  {
   "cell_type": "code",
   "execution_count": 4,
   "metadata": {},
   "outputs": [],
   "source": [
    "def dummies(df):\n",
    "    df = pd.get_dummies(df)\n",
    "    return df"
   ]
  },
  {
   "cell_type": "code",
   "execution_count": 5,
   "metadata": {},
   "outputs": [],
   "source": [
    "def scaling(df):\n",
    "    x=df.values\n",
    "    min_max_scaler = preprocessing.MinMaxScaler()\n",
    "    x_scaled=min_max_scaler.fit_transform(x)\n",
    "    df = pd.DataFrame(x_scaled, columns=df.columns)\n",
    "    return df\n"
   ]
  },
  {
   "cell_type": "code",
   "execution_count": 13,
   "metadata": {},
   "outputs": [],
   "source": [
    "def normalize(df):\n",
    "    x = df.values\n",
    "    normalized_X = preprocessing.normalize(x)\n",
    "    df = pd.DataFrame(normalized_X)\n",
    "    return df"
   ]
  },
  {
   "cell_type": "code",
   "execution_count": 7,
   "metadata": {},
   "outputs": [],
   "source": [
    "df=dummies(df)"
   ]
  },
  {
   "cell_type": "code",
   "execution_count": 8,
   "metadata": {},
   "outputs": [
    {
     "data": {
      "text/plain": [
       "Index(['carat', 'depth', 'table', 'x', 'y', 'z', 'price', 'cut_Fair',\n",
       "       'cut_Good', 'cut_Ideal', 'cut_Premium', 'cut_Very Good', 'color_D',\n",
       "       'color_E', 'color_F', 'color_G', 'color_H', 'color_I', 'color_J',\n",
       "       'clarity_I1', 'clarity_IF', 'clarity_SI1', 'clarity_SI2', 'clarity_VS1',\n",
       "       'clarity_VS2', 'clarity_VVS1', 'clarity_VVS2'],\n",
       "      dtype='object')"
      ]
     },
     "execution_count": 8,
     "metadata": {},
     "output_type": "execute_result"
    }
   ],
   "source": [
    "df.columns"
   ]
  },
  {
   "cell_type": "code",
   "execution_count": 35,
   "metadata": {},
   "outputs": [],
   "source": [
    "df.to_csv('./data/clean.csv')"
   ]
  },
  {
   "cell_type": "code",
   "execution_count": 14,
   "metadata": {},
   "outputs": [],
   "source": [
    "X = df[['carat', 'depth', 'table', 'x', 'y', 'z', 'cut_Fair',\n",
    "       'cut_Good', 'cut_Ideal', 'cut_Premium', 'cut_Very Good', 'color_D',\n",
    "       'color_E', 'color_F', 'color_G', 'color_H', 'color_I', 'color_J',\n",
    "       'clarity_I1', 'clarity_IF', 'clarity_SI1', 'clarity_SI2', 'clarity_VS1',\n",
    "       'clarity_VS2', 'clarity_VVS1', 'clarity_VVS2']]\n",
    "\n",
    "y = df['price']\n",
    "\n",
    "X=scaling(X)\n",
    "X=normalize(X)"
   ]
  },
  {
   "cell_type": "code",
   "execution_count": 28,
   "metadata": {},
   "outputs": [],
   "source": [
    "X_train, X_test, y_train, y_test = train_test_split(X,y, train_size=0)"
   ]
  },
  {
   "cell_type": "code",
   "execution_count": 32,
   "metadata": {},
   "outputs": [],
   "source": [
    "linear = LinearRegression()\n",
    "\n",
    "fit = linear.fit(X, y)\n",
    "\n",
    "pred = fit.predict(X_test)"
   ]
  },
  {
   "cell_type": "code",
   "execution_count": 33,
   "metadata": {},
   "outputs": [
    {
     "data": {
      "text/plain": [
       "1131.8837523998036"
      ]
     },
     "execution_count": 33,
     "metadata": {},
     "output_type": "execute_result"
    }
   ],
   "source": [
    "sqrt(mean_squared_error(y_test, pred))"
   ]
  },
  {
   "cell_type": "code",
   "execution_count": 34,
   "metadata": {},
   "outputs": [
    {
     "data": {
      "text/html": [
       "<div>\n",
       "<style scoped>\n",
       "    .dataframe tbody tr th:only-of-type {\n",
       "        vertical-align: middle;\n",
       "    }\n",
       "\n",
       "    .dataframe tbody tr th {\n",
       "        vertical-align: top;\n",
       "    }\n",
       "\n",
       "    .dataframe thead th {\n",
       "        text-align: right;\n",
       "    }\n",
       "</style>\n",
       "<table border=\"1\" class=\"dataframe\">\n",
       "  <thead>\n",
       "    <tr style=\"text-align: right;\">\n",
       "      <th></th>\n",
       "      <th>GT</th>\n",
       "      <th>LR Pred</th>\n",
       "      <th>diff LR</th>\n",
       "    </tr>\n",
       "  </thead>\n",
       "  <tbody>\n",
       "    <tr>\n",
       "      <th>15668</th>\n",
       "      <td>12084</td>\n",
       "      <td>13182.780301</td>\n",
       "      <td>1098.780301</td>\n",
       "    </tr>\n",
       "    <tr>\n",
       "      <th>10214</th>\n",
       "      <td>734</td>\n",
       "      <td>946.735474</td>\n",
       "      <td>212.735474</td>\n",
       "    </tr>\n",
       "    <tr>\n",
       "      <th>36200</th>\n",
       "      <td>999</td>\n",
       "      <td>-508.316587</td>\n",
       "      <td>1507.316587</td>\n",
       "    </tr>\n",
       "    <tr>\n",
       "      <th>8392</th>\n",
       "      <td>10809</td>\n",
       "      <td>8153.527063</td>\n",
       "      <td>2655.472937</td>\n",
       "    </tr>\n",
       "    <tr>\n",
       "      <th>37419</th>\n",
       "      <td>2774</td>\n",
       "      <td>1411.077903</td>\n",
       "      <td>1362.922097</td>\n",
       "    </tr>\n",
       "    <tr>\n",
       "      <th>...</th>\n",
       "      <td>...</td>\n",
       "      <td>...</td>\n",
       "      <td>...</td>\n",
       "    </tr>\n",
       "    <tr>\n",
       "      <th>8603</th>\n",
       "      <td>554</td>\n",
       "      <td>-954.695950</td>\n",
       "      <td>1508.695950</td>\n",
       "    </tr>\n",
       "    <tr>\n",
       "      <th>31468</th>\n",
       "      <td>1381</td>\n",
       "      <td>1519.436974</td>\n",
       "      <td>138.436974</td>\n",
       "    </tr>\n",
       "    <tr>\n",
       "      <th>34755</th>\n",
       "      <td>3685</td>\n",
       "      <td>3963.721259</td>\n",
       "      <td>278.721259</td>\n",
       "    </tr>\n",
       "    <tr>\n",
       "      <th>28328</th>\n",
       "      <td>12690</td>\n",
       "      <td>13192.872366</td>\n",
       "      <td>502.872366</td>\n",
       "    </tr>\n",
       "    <tr>\n",
       "      <th>27527</th>\n",
       "      <td>854</td>\n",
       "      <td>806.718671</td>\n",
       "      <td>47.281329</td>\n",
       "    </tr>\n",
       "  </tbody>\n",
       "</table>\n",
       "<p>40415 rows × 3 columns</p>\n",
       "</div>"
      ],
      "text/plain": [
       "          GT       LR Pred      diff LR\n",
       "15668  12084  13182.780301  1098.780301\n",
       "10214    734    946.735474   212.735474\n",
       "36200    999   -508.316587  1507.316587\n",
       "8392   10809   8153.527063  2655.472937\n",
       "37419   2774   1411.077903  1362.922097\n",
       "...      ...           ...          ...\n",
       "8603     554   -954.695950  1508.695950\n",
       "31468   1381   1519.436974   138.436974\n",
       "34755   3685   3963.721259   278.721259\n",
       "28328  12690  13192.872366   502.872366\n",
       "27527    854    806.718671    47.281329\n",
       "\n",
       "[40415 rows x 3 columns]"
      ]
     },
     "execution_count": 34,
     "metadata": {},
     "output_type": "execute_result"
    }
   ],
   "source": [
    "Prediction = pd.DataFrame({'GT': y_test, 'LR Pred': pred, 'diff LR': abs(y_test-pred)})\n",
    "Prediction"
   ]
  },
  {
   "cell_type": "code",
   "execution_count": 23,
   "metadata": {},
   "outputs": [],
   "source": [
    "pipe = (dropping_column(df, 'x'))"
   ]
  }
 ],
 "metadata": {
  "kernelspec": {
   "display_name": "Python 3",
   "language": "python",
   "name": "python3"
  },
  "language_info": {
   "codemirror_mode": {
    "name": "ipython",
    "version": 3
   },
   "file_extension": ".py",
   "mimetype": "text/x-python",
   "name": "python",
   "nbconvert_exporter": "python",
   "pygments_lexer": "ipython3",
   "version": "3.7.5"
  }
 },
 "nbformat": 4,
 "nbformat_minor": 2
}
