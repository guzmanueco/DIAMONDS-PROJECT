{
 "cells": [
  {
   "cell_type": "code",
   "execution_count": 1,
   "metadata": {},
   "outputs": [],
   "source": [
    "import pandas as pd\n",
    "import numpy as np\n",
    "from sklearn.decomposition import PCA\n",
    "from sklearn.metrics import mean_squared_error\n",
    "from math import sqrt\n",
    "from sklearn.linear_model import LinearRegression\n",
    "from sklearn.model_selection import train_test_split"
   ]
  },
  {
   "cell_type": "code",
   "execution_count": 2,
   "metadata": {},
   "outputs": [],
   "source": [
    "df = pd.read_csv('./data/data.csv')"
   ]
  },
  {
   "cell_type": "code",
   "execution_count": 3,
   "metadata": {},
   "outputs": [],
   "source": [
    "df_numeric = pd.get_dummies(df)"
   ]
  },
  {
   "cell_type": "code",
   "execution_count": 4,
   "metadata": {},
   "outputs": [
    {
     "data": {
      "text/plain": [
       "Index(['carat', 'depth', 'table', 'x', 'y', 'z', 'price', 'cut_Fair',\n",
       "       'cut_Good', 'cut_Ideal', 'cut_Premium', 'cut_Very Good', 'color_D',\n",
       "       'color_E', 'color_F', 'color_G', 'color_H', 'color_I', 'color_J',\n",
       "       'clarity_I1', 'clarity_IF', 'clarity_SI1', 'clarity_SI2', 'clarity_VS1',\n",
       "       'clarity_VS2', 'clarity_VVS1', 'clarity_VVS2'],\n",
       "      dtype='object')"
      ]
     },
     "execution_count": 4,
     "metadata": {},
     "output_type": "execute_result"
    }
   ],
   "source": [
    "df_numeric.columns"
   ]
  },
  {
   "cell_type": "code",
   "execution_count": 5,
   "metadata": {},
   "outputs": [],
   "source": [
    "matrix=df_numeric.corr()"
   ]
  },
  {
   "cell_type": "code",
   "execution_count": 6,
   "metadata": {},
   "outputs": [],
   "source": [
    "def max_values(matrix):\n",
    "    import operator\n",
    "    empty_dict=dict()\n",
    "    for e in matrix:\n",
    "        empty_dict[e]=list(sorted(matrix[e].items(),key=operator.itemgetter(1), reverse=True)[1])\n",
    "    return sorted(empty_dict.items(), key=operator.itemgetter(1))"
   ]
  },
  {
   "cell_type": "code",
   "execution_count": 7,
   "metadata": {},
   "outputs": [
    {
     "data": {
      "text/plain": [
       "[('color_H', ['carat', 0.10444191226151829]),\n",
       " ('color_I', ['carat', 0.15877356188188427]),\n",
       " ('color_J', ['carat', 0.18014321794408278]),\n",
       " ('price', ['carat', 0.9218982221675251]),\n",
       " ('x', ['carat', 0.9750098928785256]),\n",
       " ('color_F', ['clarity_IF', 0.02452304282450875]),\n",
       " ('color_G', ['clarity_IF', 0.07296351098844368]),\n",
       " ('cut_Ideal', ['clarity_IF', 0.10714834753882363]),\n",
       " ('color_D', ['clarity_SI1', 0.05729546885571039]),\n",
       " ('color_E', ['clarity_VS2', 0.03154009657841206]),\n",
       " ('clarity_VS2', ['color_E', 0.03154009657841206]),\n",
       " ('clarity_VS1', ['color_G', 0.05197193059810816]),\n",
       " ('clarity_I1', ['cut_Fair', 0.16917307995208866]),\n",
       " ('depth', ['cut_Fair', 0.2805836033992356]),\n",
       " ('clarity_VVS2', ['cut_Ideal', 0.06890721527584591]),\n",
       " ('clarity_VVS1', ['cut_Ideal', 0.08455653559128627]),\n",
       " ('clarity_IF', ['cut_Ideal', 0.10714834753882363]),\n",
       " ('table', ['cut_Premium', 0.3397480794053728]),\n",
       " ('cut_Fair', ['depth', 0.2805836033992356]),\n",
       " ('cut_Very Good', ['table', 0.11759826353872882]),\n",
       " ('cut_Good', ['table', 0.17845667189953288]),\n",
       " ('cut_Premium', ['table', 0.3397480794053728]),\n",
       " ('clarity_SI2', ['x', 0.2720632955126433]),\n",
       " ('z', ['x', 0.9661883961916592]),\n",
       " ('y', ['x', 0.9671609363769315]),\n",
       " ('carat', ['x', 0.9750098928785256]),\n",
       " ('clarity_SI1', ['z', 0.081253791355205])]"
      ]
     },
     "execution_count": 7,
     "metadata": {},
     "output_type": "execute_result"
    }
   ],
   "source": [
    "max_values(matrix)"
   ]
  },
  {
   "cell_type": "code",
   "execution_count": 20,
   "metadata": {},
   "outputs": [],
   "source": [
    "X = df_numeric[['carat', 'depth', 'table', 'x', 'y', 'z']]\n",
    "y= df_numeric['price']"
   ]
  },
  {
   "cell_type": "code",
   "execution_count": 23,
   "metadata": {},
   "outputs": [],
   "source": [
    "pca = PCA(n_components=6)"
   ]
  },
  {
   "cell_type": "code",
   "execution_count": 24,
   "metadata": {},
   "outputs": [],
   "source": [
    "X_2dim = pca.fit_transform(X)"
   ]
  },
  {
   "cell_type": "code",
   "execution_count": 34,
   "metadata": {},
   "outputs": [],
   "source": [
    "X_train, X_test, y_train, y_test = train_test_split( X_2dim, y, test_size=0.20, random_state=1)"
   ]
  },
  {
   "cell_type": "code",
   "execution_count": 35,
   "metadata": {},
   "outputs": [],
   "source": [
    "linear = LinearRegression()\n",
    "\n",
    "fitLR = linear.fit(X_train, y_train)"
   ]
  },
  {
   "cell_type": "code",
   "execution_count": 36,
   "metadata": {},
   "outputs": [],
   "source": [
    "pred_LR=fitLR.predict(X_test)"
   ]
  },
  {
   "cell_type": "code",
   "execution_count": 37,
   "metadata": {},
   "outputs": [],
   "source": [
    "Prediction_PCA = pd.DataFrame({'GT':y_test, 'LinearReg': pred_LR, 'diff LR': abs(y_test-pred_LR)})"
   ]
  },
  {
   "cell_type": "code",
   "execution_count": 38,
   "metadata": {},
   "outputs": [
    {
     "data": {
      "text/html": [
       "<div>\n",
       "<style scoped>\n",
       "    .dataframe tbody tr th:only-of-type {\n",
       "        vertical-align: middle;\n",
       "    }\n",
       "\n",
       "    .dataframe tbody tr th {\n",
       "        vertical-align: top;\n",
       "    }\n",
       "\n",
       "    .dataframe thead th {\n",
       "        text-align: right;\n",
       "    }\n",
       "</style>\n",
       "<table border=\"1\" class=\"dataframe\">\n",
       "  <thead>\n",
       "    <tr style=\"text-align: right;\">\n",
       "      <th></th>\n",
       "      <th>GT</th>\n",
       "      <th>LinearReg</th>\n",
       "      <th>diff LR</th>\n",
       "    </tr>\n",
       "  </thead>\n",
       "  <tbody>\n",
       "    <tr>\n",
       "      <th>4012</th>\n",
       "      <td>854</td>\n",
       "      <td>804.838396</td>\n",
       "      <td>49.161604</td>\n",
       "    </tr>\n",
       "    <tr>\n",
       "      <th>23715</th>\n",
       "      <td>799</td>\n",
       "      <td>1276.222030</td>\n",
       "      <td>477.222030</td>\n",
       "    </tr>\n",
       "    <tr>\n",
       "      <th>17297</th>\n",
       "      <td>9633</td>\n",
       "      <td>7039.014414</td>\n",
       "      <td>2593.985586</td>\n",
       "    </tr>\n",
       "    <tr>\n",
       "      <th>15209</th>\n",
       "      <td>2548</td>\n",
       "      <td>3372.155313</td>\n",
       "      <td>824.155313</td>\n",
       "    </tr>\n",
       "    <tr>\n",
       "      <th>37982</th>\n",
       "      <td>1155</td>\n",
       "      <td>1177.851464</td>\n",
       "      <td>22.851464</td>\n",
       "    </tr>\n",
       "    <tr>\n",
       "      <th>...</th>\n",
       "      <td>...</td>\n",
       "      <td>...</td>\n",
       "      <td>...</td>\n",
       "    </tr>\n",
       "    <tr>\n",
       "      <th>6246</th>\n",
       "      <td>668</td>\n",
       "      <td>590.430836</td>\n",
       "      <td>77.569164</td>\n",
       "    </tr>\n",
       "    <tr>\n",
       "      <th>31557</th>\n",
       "      <td>1828</td>\n",
       "      <td>1471.507571</td>\n",
       "      <td>356.492429</td>\n",
       "    </tr>\n",
       "    <tr>\n",
       "      <th>32825</th>\n",
       "      <td>984</td>\n",
       "      <td>1049.072604</td>\n",
       "      <td>65.072604</td>\n",
       "    </tr>\n",
       "    <tr>\n",
       "      <th>25068</th>\n",
       "      <td>628</td>\n",
       "      <td>585.773544</td>\n",
       "      <td>42.226456</td>\n",
       "    </tr>\n",
       "    <tr>\n",
       "      <th>8307</th>\n",
       "      <td>5049</td>\n",
       "      <td>5387.293528</td>\n",
       "      <td>338.293528</td>\n",
       "    </tr>\n",
       "  </tbody>\n",
       "</table>\n",
       "<p>8091 rows × 3 columns</p>\n",
       "</div>"
      ],
      "text/plain": [
       "         GT    LinearReg      diff LR\n",
       "4012    854   804.838396    49.161604\n",
       "23715   799  1276.222030   477.222030\n",
       "17297  9633  7039.014414  2593.985586\n",
       "15209  2548  3372.155313   824.155313\n",
       "37982  1155  1177.851464    22.851464\n",
       "...     ...          ...          ...\n",
       "6246    668   590.430836    77.569164\n",
       "31557  1828  1471.507571   356.492429\n",
       "32825   984  1049.072604    65.072604\n",
       "25068   628   585.773544    42.226456\n",
       "8307   5049  5387.293528   338.293528\n",
       "\n",
       "[8091 rows x 3 columns]"
      ]
     },
     "execution_count": 38,
     "metadata": {},
     "output_type": "execute_result"
    }
   ],
   "source": [
    "Prediction_PCA"
   ]
  },
  {
   "cell_type": "code",
   "execution_count": 39,
   "metadata": {},
   "outputs": [
    {
     "data": {
      "text/plain": [
       "1472.6082896315954"
      ]
     },
     "execution_count": 39,
     "metadata": {},
     "output_type": "execute_result"
    }
   ],
   "source": [
    "sqrt(mean_squared_error(y_test, pred_LR))"
   ]
  },
  {
   "cell_type": "code",
   "execution_count": 40,
   "metadata": {},
   "outputs": [],
   "source": [
    "pred_LR_X_total = fitLR.predict(X_2dim)"
   ]
  },
  {
   "cell_type": "code",
   "execution_count": 41,
   "metadata": {},
   "outputs": [],
   "source": [
    "overall_df = pd.DataFrame({'GT': y, 'Linear Regression': pred_LR_X_total, 'diff': abs(y-pred_LR_X_total)})"
   ]
  },
  {
   "cell_type": "code",
   "execution_count": 42,
   "metadata": {},
   "outputs": [
    {
     "data": {
      "text/plain": [
       "1497.033077412092"
      ]
     },
     "execution_count": 42,
     "metadata": {},
     "output_type": "execute_result"
    }
   ],
   "source": [
    "sqrt(mean_squared_error(y, pred_LR_X_total))"
   ]
  }
 ],
 "metadata": {
  "kernelspec": {
   "display_name": "Python 3",
   "language": "python",
   "name": "python3"
  },
  "language_info": {
   "codemirror_mode": {
    "name": "ipython",
    "version": 3
   },
   "file_extension": ".py",
   "mimetype": "text/x-python",
   "name": "python",
   "nbconvert_exporter": "python",
   "pygments_lexer": "ipython3",
   "version": "3.7.5"
  }
 },
 "nbformat": 4,
 "nbformat_minor": 2
}
